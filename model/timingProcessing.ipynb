{
 "cells": [
  {
   "cell_type": "code",
   "execution_count": 1,
   "metadata": {},
   "outputs": [],
   "source": [
    "import numpy as np\n"
   ]
  },
  {
   "cell_type": "code",
   "execution_count": 2,
   "metadata": {},
   "outputs": [],
   "source": [
    "def read_dat_file(file_path):\n",
    "    # Skip header line\n",
    "    with open(file_path, 'r') as file:\n",
    "        next(file)\n",
    "        data = np.loadtxt(file, dtype=np.float64, skiprows=0, usecols=(1,))\n",
    "    return data.tolist()"
   ]
  },
  {
   "cell_type": "code",
   "execution_count": null,
   "metadata": {},
   "outputs": [],
   "source": [
    "file_path = '../data/timing_convolve_fir_resample.dat'\n",
    "\n",
    "#RF front end :\n",
    "# ConvolveFIR2 and fmDemodulator\n",
    "\n",
    "\n",
    "#audio:\n",
    "# ConvolveFIRREsample\n",
    "# DelayBlock ???????????\n",
    "# ConvolveFIR with stereo audio\n",
    "# convolveFIR with pilot ?????????\n",
    "# fmPll\n",
    "# mixer\n",
    "# convolveFIRResample on stereo lpf\n",
    "# stereo combiner\n",
    "# data dump ????????\n",
    "\n",
    "\n",
    "# RDS:\n",
    "#  ConvolveFIR BPF\n",
    "#  rds squared\n",
    "#  rds pll ?????\n",
    "#  rds delay block ????\n",
    "#  rds mixer\n",
    "#  rds convolveFIRResample\n",
    "#  convolve fir rrc ??????\n",
    "#  we now concat 2 blocks \n",
    "#  select sample points?????\n",
    "#  Recover bitstream\n",
    "#  differential_decode_stateful\n",
    "#  frame_sync_initial ????????\n",
    "#  frame_sync_blockwise\n"
   ]
  }
 ],
 "metadata": {
  "kernelspec": {
   "display_name": "Python 3",
   "language": "python",
   "name": "python3"
  },
  "language_info": {
   "codemirror_mode": {
    "name": "ipython",
    "version": 3
   },
   "file_extension": ".py",
   "mimetype": "text/x-python",
   "name": "python",
   "nbconvert_exporter": "python",
   "pygments_lexer": "ipython3",
   "version": "3.9.2"
  }
 },
 "nbformat": 4,
 "nbformat_minor": 2
}
