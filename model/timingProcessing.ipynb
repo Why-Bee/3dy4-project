{
 "cells": [
  {
   "cell_type": "code",
   "execution_count": 21,
   "metadata": {},
   "outputs": [],
   "source": [
    "import numpy as np\n",
    "import csv"
   ]
  },
  {
   "cell_type": "code",
   "execution_count": 22,
   "metadata": {},
   "outputs": [],
   "source": [
    "def read_dat_file(file_path):\n",
    "    # Skip header line\n",
    "    with open(file_path, 'r') as file:\n",
    "        next(file)\n",
    "        data = np.loadtxt(file, dtype=np.float64, skiprows=0, usecols=(1,))\n",
    "    return data.tolist()\n",
    "\n",
    "def get_mean(data):\n",
    "    # Return mean and std_dev\n",
    "    return np.mean(data)\n",
    "        \n",
    "def get_std_dev(data):\n",
    "    # Return mean and std_dev\n",
    "    return np.std(data)"
   ]
  },
  {
   "cell_type": "markdown",
   "metadata": {},
   "source": [
    "### Files of Interest"
   ]
  },
  {
   "cell_type": "code",
   "execution_count": 23,
   "metadata": {},
   "outputs": [],
   "source": [
    "file_paths = {    \n",
    "    \"ConvolveFIR2\":\n",
    "        [\n",
    "            (\"13\", \"/opt/ourdata/timing_rf_conv2_i_samples_mode0_taps13.dat\"),\n",
    "            (\"31\", \"/opt/ourdata/timing_rf_conv2_i_samples_mode0_taps31.dat\"),\n",
    "            (\"51\", \"/opt/ourdata/timing_rf_conv2_i_samples_mode0_taps51.dat\"),\n",
    "            (\"71\", \"/opt/ourdata/timing_rf_conv2_i_samples_mode0_taps71.dat\"),\n",
    "            (\"101\", \"/opt/ourdata/timing_rf_conv2_i_samples_mode0_taps101.dat\"),\n",
    "            (\"131\", \"/opt/ourdata/timing_rf_conv2_i_samples_mode0_taps131.dat\"),\n",
    "            (\"161\", \"/opt/ourdata/timing_rf_conv2_i_samples_mode0_taps161.dat\"),\n",
    "            (\"201\", \"/opt/ourdata/timing_rf_conv2_i_samples_mode0_taps201.dat\"),\n",
    "            (\"231\", \"/opt/ourdata/timing_rf_conv2_i_samples_mode0_taps231.dat\"),\n",
    "            (\"261\", \"/opt/ourdata/timing_rf_conv2_i_samples_mode0_taps261.dat\"),\n",
    "            (\"301\", \"/opt/ourdata/timing_rf_conv2_i_samples_mode0_taps301.dat\"),\n",
    "        ]\n",
    "}\n"
   ]
  },
  {
   "cell_type": "markdown",
   "metadata": {},
   "source": [
    "### Setup CSV"
   ]
  },
  {
   "cell_type": "code",
   "execution_count": 24,
   "metadata": {},
   "outputs": [],
   "source": [
    "# Define headers\n",
    "headers = [\"\", \"\", \"Mode 0\"]\n",
    "subheaders = [\"Function\", \"Taps\"] +  [\"mean\", \"cv\"]\n",
    "output_file = \"tap_analysis.csv\"\n",
    "file_mode = 'w'"
   ]
  },
  {
   "cell_type": "markdown",
   "metadata": {},
   "source": [
    "### Extract Data and Write to CSV"
   ]
  },
  {
   "cell_type": "code",
   "execution_count": 25,
   "metadata": {},
   "outputs": [],
   "source": [
    "# Write data to CSV file\n",
    "with open(output_file, file_mode, newline='') as csvfile:\n",
    "    writer = csv.writer(csvfile)\n",
    "    writer.writerow(headers)\n",
    "    writer.writerow(subheaders)\n",
    "    \n",
    "    for function, arr in file_paths.items():\n",
    "        for line in arr:\n",
    "            row = [function, line[0]]\n",
    "            data = read_dat_file(line[1])\n",
    "            mean = get_mean(data) \n",
    "            cv = get_std_dev(data)/mean\n",
    "            \n",
    "            row += [mean, cv]\n",
    "            writer.writerow(row)\n",
    "            \n",
    "                "
   ]
  }
 ],
 "metadata": {
  "kernelspec": {
   "display_name": "Python 3",
   "language": "python",
   "name": "python3"
  },
  "language_info": {
   "codemirror_mode": {
    "name": "ipython",
    "version": 3
   },
   "file_extension": ".py",
   "mimetype": "text/x-python",
   "name": "python",
   "nbconvert_exporter": "python",
   "pygments_lexer": "ipython3",
   "version": "3.8.3"
  }
 },
 "nbformat": 4,
 "nbformat_minor": 2
}
