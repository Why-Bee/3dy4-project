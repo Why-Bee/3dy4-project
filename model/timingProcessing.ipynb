{
 "cells": [
  {
   "cell_type": "code",
   "execution_count": 1,
   "metadata": {},
   "outputs": [],
   "source": [
    "import numpy as np\n",
    "import csv"
   ]
  },
  {
   "cell_type": "code",
   "execution_count": null,
   "metadata": {},
   "outputs": [],
   "source": [
    "def read_dat_file(file_path):\n",
    "    # Skip header line\n",
    "    with open(file_path, 'r') as file:\n",
    "        next(file)\n",
    "        data = np.loadtxt(file, dtype=np.float64, skiprows=0, usecols=(1,))\n",
    "    return data.tolist()\n",
    "\n",
    "def get_mean(data):\n",
    "    # Return mean and std_dev\n",
    "    return np.mean(data)\n",
    "        \n",
    "def get_std_dev(data):\n",
    "    # Return mean and std_dev\n",
    "    return np.std(data)"
   ]
  },
  {
   "cell_type": "markdown",
   "metadata": {},
   "source": [
    "### Files of Interest"
   ]
  },
  {
   "cell_type": "code",
   "execution_count": null,
   "metadata": {},
   "outputs": [],
   "source": [
    "file_paths = {\n",
    "    \"ConvolveFIRResample\" : {\n",
    "        \"RF\" :         \n",
    "        [\n",
    "            (\"Mode1\", \"../data/timing_convolve_fir_resample.dat\"),\n",
    "            (\"Mode2\", \"../data/timing_convolve_fir_resample.dat\"),\n",
    "            (\"Mode3\", \"../data/timing_convolve_fir_resample.dat\"),\n",
    "            (\"Mode4\", \"../data/timing_convolve_fir_resample.dat\"),\n",
    "        ], \n",
    "        \"Audio\": \n",
    "        [\n",
    "            (\"Mode1\", \"../data/timing_convolve_fir_resample.dat\"),\n",
    "            (\"Mode2\", \"../data/timing_convolve_fir_resample.dat\"),\n",
    "            (\"Mode3\", \"../data/timing_convolve_fir_resample.dat\"),\n",
    "            (\"Mode4\", \"../data/timing_convolve_fir_resample.dat\"),\n",
    "        ], \n",
    "    }\n",
    "}\n",
    "\n",
    "#RF front end :\n",
    "# ConvolveFIR2 and fmDemodulator\n",
    "\n",
    "\n",
    "#audio:\n",
    "# ConvolveFIRREsample\n",
    "# DelayBlock ???????????\n",
    "# ConvolveFIR with stereo audio\n",
    "# convolveFIR with pilot ?????????\n",
    "# fmPll\n",
    "# mixer\n",
    "# convolveFIRResample on stereo lpf\n",
    "# stereo combiner\n",
    "# data dump ????????\n",
    "\n",
    "\n",
    "# RDS:\n",
    "#  ConvolveFIR BPF\n",
    "#  rds squared\n",
    "#  rds pll ?????\n",
    "#  rds delay block ????\n",
    "#  rds mixer\n",
    "#  rds convolveFIRResample\n",
    "#  convolve fir rrc ??????\n",
    "#  we now concat 2 blocks \n",
    "#  select sample points?????\n",
    "#  Recover bitstream\n",
    "#  differential_decode_stateful\n",
    "#  frame_sync_initial ????????\n",
    "#  frame_sync_blockwise\n"
   ]
  },
  {
   "cell_type": "markdown",
   "metadata": {},
   "source": [
    "### Setup CSV"
   ]
  },
  {
   "cell_type": "code",
   "execution_count": null,
   "metadata": {},
   "outputs": [],
   "source": [
    "# Define headers\n",
    "headers = [\"\", \"\", \"Mode 1\", \"\", \"Mode 2\", \"\", \"Mode 3\", \"\", \"Mode 4\", \"\"]\n",
    "subheaders = [\"Function\", \"Context\", \"mean\", \"std-dev\", \"mean\", \"std-dev\", \"mean\", \"std-dev\", \"mean\", \"std-dev\"]\n",
    "output_file = \"function_analysis.csv\"\n",
    "file_mode = 'w'"
   ]
  },
  {
   "cell_type": "markdown",
   "metadata": {},
   "source": [
    "### Extract Data and Write to CSV"
   ]
  },
  {
   "cell_type": "code",
   "execution_count": null,
   "metadata": {},
   "outputs": [],
   "source": [
    "# Write data to CSV file\n",
    "with open(output_file, file_mode, newline='') as csvfile:\n",
    "    writer = csv.writer(csvfile)\n",
    "    writer.writerow(headers)\n",
    "    writer.writerow(subheaders)\n",
    "    \n",
    "    for function, contexts in file_paths.items:\n",
    "        for context, modes in contexts:\n",
    "            row = [function, context]\n",
    "            for mode in modes:\n",
    "                data = read_dat_file(mode[1])\n",
    "                mean = get_mean(data)\n",
    "                std_dev = get_std_dev(data)\n",
    "                \n",
    "                row += [mean, std_dev]\n",
    "            writer.writerow(row)\n",
    "            \n",
    "                "
   ]
  }
 ],
 "metadata": {
  "kernelspec": {
   "display_name": "Python 3",
   "language": "python",
   "name": "python3"
  },
  "language_info": {
   "codemirror_mode": {
    "name": "ipython",
    "version": 3
   },
   "file_extension": ".py",
   "mimetype": "text/x-python",
   "name": "python",
   "nbconvert_exporter": "python",
   "pygments_lexer": "ipython3",
   "version": "3.9.2"
  }
 },
 "nbformat": 4,
 "nbformat_minor": 2
}
