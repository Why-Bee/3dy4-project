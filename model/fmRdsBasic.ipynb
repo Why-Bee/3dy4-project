{
 "cells": [
  {
   "cell_type": "markdown",
   "metadata": {},
   "source": [
    "## Imports"
   ]
  },
  {
   "cell_type": "code",
   "execution_count": 2,
   "metadata": {},
   "outputs": [],
   "source": [
    "import matplotlib.pyplot as plt\n",
    "from scipy.io import wavfile\n",
    "from scipy import signal\n",
    "import numpy as np\n",
    "import math\n",
    "\n",
    "# use fmDemodArctan and fmPlotPSD\n",
    "from fmSupportLib import fmDemodArctan, fmPlotPSD, own_lfilter, lpCoeff, custom_fm_demod, logVector, bpFirwin, fmPll, delayBlock, sampling_start_adjust\n",
    "from fmRRC import impulseResponseRootRaisedCosine\n",
    "# for take-home add your functions\n"
   ]
  },
  {
   "cell_type": "code",
   "execution_count": 3,
   "metadata": {},
   "outputs": [],
   "source": [
    "def upsample(y, upsampling_factor):\n",
    "    if upsampling_factor == 1:\n",
    "        return y\n",
    "\n",
    "    original_size = len(y)\n",
    "    y_extended = np.zeros(original_size * upsampling_factor)\n",
    "    y_extended[::upsampling_factor] = y\n",
    "\n",
    "    return y_extended"
   ]
  },
  {
   "cell_type": "markdown",
   "metadata": {},
   "source": [
    "## Constants"
   ]
  },
  {
   "cell_type": "code",
   "execution_count": 4,
   "metadata": {},
   "outputs": [],
   "source": [
    "rf_Fs = 2.4e6\n",
    "rf_Fc = 100e3\n",
    "rf_taps = 101\n",
    "rf_decim = 10\n",
    "\n",
    "audio_taps = 101\n",
    "audio_Fc = 16e3\n",
    "audio_decim = 5\n",
    "audio_Fs = 48e3\n",
    "\n",
    "rds_bpf_fc_low = 54e3\n",
    "rds_bpf_fc_high = 60e3\n",
    "rds_bpf_taps = 101\n",
    "\n",
    "rds_lpf_fc = 3e3\n",
    "rds_lpf_taps = 101\n",
    "\n",
    "rds_rrc_taps = 151\n",
    "\n",
    "samples_per_symbol = 13\n",
    "\n",
    "if samples_per_symbol == 30:\n",
    "    rds_upsampling_factor = 19\n",
    "    rds_downsampling_factor = 64\n",
    "elif samples_per_symbol == 13:\n",
    "    rds_upsampling_factor = 247\n",
    "    rds_downsampling_factor = 1920\n",
    "    \n",
    "rds_decim = rds_downsampling_factor/rds_upsampling_factor\n",
    "\n",
    "rds_squared_bpf_fc_low = 113.5e3\n",
    "rds_squared_bpf_fc_high = 114.5e3\n",
    "rds_carrier_frequency = 114e3\n",
    "rds_squared_bpf_taps = 101"
   ]
  },
  {
   "cell_type": "markdown",
   "metadata": {},
   "source": [
    "## State Variables (useless in single pass)"
   ]
  },
  {
   "cell_type": "code",
   "execution_count": 5,
   "metadata": {},
   "outputs": [],
   "source": [
    "state_i_lpf_100k = np.zeros(rf_taps-1)\n",
    "state_q_lpf_100k = np.zeros(rf_taps-1)\n",
    "rds_filt_state_bpf = np.zeros(rds_squared_bpf_taps-1)\n",
    "rds_filt_state_apf = np.zeros(int((rds_bpf_taps-1)/2))\n",
    "rds_filt_state_lpf = np.zeros(rds_lpf_taps-1)\n",
    "state_phase = 0\n",
    "state_i_custom = np.float64(0.0)\n",
    "state_q_custom = np.float64(0.0)\n",
    "\n",
    "# INIITIAL PLL STATES\n",
    "pll_state_integrator = 0.0\n",
    "pll_state_phaseEst = 0.0\n",
    "pll_state_feedbackI = 1.0\n",
    "pll_state_feedbackQ = 0.0\n",
    "pll_state_trigOffset = 0\n",
    "pll_state_lastNco = 1.0\n",
    "\n",
    "pll_state_integrator_q =  0.0\n",
    "pll_state_phaseEst_q =  0.0\n",
    "pll_state_feedbackI_q =  1.0\n",
    "pll_state_feedbackQ_q =  0.0\n",
    "pll_state_trigOffset_q =  0\n",
    "pll_state_lastNco_q =  1.0"
   ]
  },
  {
   "cell_type": "markdown",
   "metadata": {},
   "source": [
    "## Read In Raw Data"
   ]
  },
  {
   "cell_type": "code",
   "execution_count": 6,
   "metadata": {},
   "outputs": [
    {
     "name": "stdout",
     "output_type": "stream",
     "text": [
      "Read raw RF data from \"../data/samples9.raw\" in unsigned 8-bit format\n",
      "Reformatted raw RF data to 32-bit float format (96000000 bytes)\n"
     ]
    }
   ],
   "source": [
    "in_fname = \"../data/samples9.raw\"\n",
    "\n",
    "raw_data = np.fromfile(in_fname, dtype='uint8')\n",
    "print(\"Read raw RF data from \\\"\" + in_fname + \"\\\" in unsigned 8-bit format\")\n",
    "# IQ data is normalized between -1 and +1 in 32-bit float format\n",
    "iq_data = (np.float32(raw_data) - 128.0)/128.0\n",
    "print(\"Reformatted raw RF data to 32-bit float format (\" + str(iq_data.size * iq_data.itemsize) + \" bytes)\")\n",
    "\n",
    "# set up the subfigures for plotting\n",
    "# subfig_height = np.array([0.8, 2, 1.6])\n",
    "# plt.rc('figure', figsize=(7.5, 7.5))\t\n",
    "# fig, (ax0, ax1, ax2) = plt.subplots(nrows=3, gridspec_kw={'height_ratios': subfig_height})\n",
    "# fig.subplots_adjust(hspace = .6)"
   ]
  },
  {
   "cell_type": "markdown",
   "metadata": {},
   "source": [
    "## Calculate the filter coefficients"
   ]
  },
  {
   "cell_type": "code",
   "execution_count": 7,
   "metadata": {},
   "outputs": [],
   "source": [
    "rf_coeff = signal.firwin(rf_taps, rf_Fc/(rf_Fs/2), window=('hann'))\n",
    "\n",
    "audio_coeff = signal.firwin(audio_taps, audio_Fc/((rf_Fs/rf_decim)/2), window=('hann'))\n",
    "\n",
    "rds_bpf_coeff = bpFirwin((rf_Fs/rf_decim), \n",
    "                            rds_bpf_fc_low, \n",
    "                            rds_bpf_fc_high, \n",
    "                            rds_bpf_taps)\n",
    "\n",
    "rds_squared_bpf_coeff = bpFirwin((rf_Fs/rf_decim), \n",
    "                                    rds_squared_bpf_fc_low, \n",
    "                                    rds_squared_bpf_fc_high, \n",
    "                                    rds_squared_bpf_taps)\n",
    "\n",
    "rds_lpf_coeff = signal.firwin(rds_lpf_taps, rds_lpf_fc/((rf_Fs/rf_decim)/2), window=('hann'))\n",
    "\n",
    "\n",
    "\n",
    "rds_rrc_coeff = impulseResponseRootRaisedCosine(rf_Fs/(rf_decim*rds_decim), rds_rrc_taps)\n"
   ]
  },
  {
   "cell_type": "markdown",
   "metadata": {},
   "source": []
  },
  {
   "cell_type": "markdown",
   "metadata": {},
   "source": [
    "## RF Front End"
   ]
  },
  {
   "cell_type": "code",
   "execution_count": 8,
   "metadata": {},
   "outputs": [],
   "source": [
    "i_filt = signal.lfilter(rf_coeff, 1.0, iq_data[::2])\n",
    "q_filt = signal.lfilter(rf_coeff, 1.0, iq_data[1::2])\n",
    "\n",
    "i_ds = i_filt[::rf_decim]\n",
    "q_ds = q_filt[::rf_decim]\n",
    "\n",
    "fm_demod, dummy = fmDemodArctan(i_ds, q_ds)"
   ]
  },
  {
   "cell_type": "markdown",
   "metadata": {},
   "source": [
    "## Audio check"
   ]
  },
  {
   "cell_type": "code",
   "execution_count": 9,
   "metadata": {},
   "outputs": [],
   "source": [
    "# audio_filt = signal.lfilter(audio_coeff, 1.0, fm_demod[0])\n",
    "# audio_data = audio_filt[::audio_decim] # to be updated by you during in-lab (same code for takehome)\n",
    "# out_fname = \"../data/fmRdsBasic_mono.wav\"\n",
    "# wavfile.write(out_fname, int(audio_Fs), np.int16((audio_data/2)*32767))"
   ]
  },
  {
   "cell_type": "markdown",
   "metadata": {},
   "source": [
    "## RDS Data Extraction"
   ]
  },
  {
   "cell_type": "markdown",
   "metadata": {},
   "source": [
    "### In phase"
   ]
  },
  {
   "cell_type": "code",
   "execution_count": 10,
   "metadata": {},
   "outputs": [],
   "source": [
    "# Bandpass filter\n",
    "rds_filt = signal.lfilter(rds_bpf_coeff, 1.0, fm_demod)\n",
    "\n",
    "# square signal\n",
    "rds_filt_squared = rds_filt*rds_filt\n",
    "\n",
    "rds_filt_carrier = signal.lfilter(rds_squared_bpf_coeff, 1.0, rds_filt_squared)\n",
    "\n",
    "ncoOut_inPhase, pll_state_integrator, pll_state_phaseEst, pll_state_trigOffset, pll_state_lastNco = fmPll(\n",
    "\t\t\trds_filt_carrier, \n",
    "\t\t\trds_carrier_frequency, \n",
    "\t\t\trf_Fs/rf_decim, \n",
    "\t\t\tpll_state_integrator, \n",
    "\t\t\tpll_state_phaseEst,\n",
    "\t\t\tpll_state_feedbackI,\n",
    "\t\t\tpll_state_feedbackQ,\n",
    "\t\t\tpll_state_trigOffset, \n",
    "\t\t\tpll_state_lastNco, \n",
    "\t\t\tncoScale=0.5,\n",
    "\t\t\tnormBandwidth=0.0025)\n",
    "\n",
    "# plt.plot(ncoOut[10000:10100])\n",
    "# plt.plot(100*rds_filt_carrier[10000:10100])\n",
    "# plt.show()"
   ]
  },
  {
   "cell_type": "markdown",
   "metadata": {},
   "source": [
    "### Quadrature phase"
   ]
  },
  {
   "cell_type": "code",
   "execution_count": 11,
   "metadata": {},
   "outputs": [],
   "source": [
    "# Bandpass filter\n",
    "rds_filt_q = signal.lfilter(rds_bpf_coeff, 1.0, fm_demod)\n",
    "\n",
    "# square signal\n",
    "rds_filt_squared_q = rds_filt_q*rds_filt_q\n",
    "\n",
    "rds_filt_carrier_q = signal.lfilter(rds_squared_bpf_coeff, 1.0, rds_filt_squared_q)\n",
    "\n",
    "ncoOut_qPhase, pll_state_integrator_q, pll_state_phaseEst_q, pll_state_trigOffset_q, pll_state_lastNco_q = fmPll(\n",
    "\t\t\trds_filt_carrier_q, \n",
    "\t\t\trds_carrier_frequency, \n",
    "\t\t\trf_Fs/rf_decim, \n",
    "\t\t\tpll_state_integrator_q, \n",
    "\t\t\tpll_state_phaseEst_q,\n",
    "\t\t\tpll_state_feedbackI_q,\n",
    "\t\t\tpll_state_feedbackQ_q,\n",
    "\t\t\tpll_state_trigOffset_q, \n",
    "\t\t\tpll_state_lastNco_q, \n",
    "\t\t\tncoScale=0.5,\n",
    "\t\t\tnormBandwidth=0.001,\n",
    "            phaseAdjust=math.pi/2)"
   ]
  },
  {
   "cell_type": "markdown",
   "metadata": {},
   "source": [
    "## All Pass filter rds data"
   ]
  },
  {
   "cell_type": "code",
   "execution_count": 12,
   "metadata": {},
   "outputs": [],
   "source": [
    "rds_filt_delayed, rds_filt_state_apf = delayBlock(rds_filt, rds_filt_state_apf)\n"
   ]
  },
  {
   "cell_type": "markdown",
   "metadata": {},
   "source": [
    "## RDS Demodulation"
   ]
  },
  {
   "cell_type": "markdown",
   "metadata": {},
   "source": [
    "### In phase\n"
   ]
  },
  {
   "cell_type": "code",
   "execution_count": 13,
   "metadata": {},
   "outputs": [],
   "source": [
    "# Mixer\n",
    "rds_mixed = 2 * rds_filt_delayed * ncoOut_inPhase[:-1]\n",
    "\n",
    "rds_mixed_lfiltered = signal.lfilter(rds_lpf_coeff, 1.0, rds_mixed)\n",
    "\n",
    "rds_upsampled = upsample(rds_mixed_lfiltered, rds_upsampling_factor)\n",
    "\n",
    "rds_upsampled_lfilterd = signal.lfilter(rds_lpf_coeff, 1.0, rds_upsampled)\n",
    "\n",
    "rds_resampled = rds_upsampling_factor*rds_upsampled_lfilterd[::rds_downsampling_factor]\n",
    "\n",
    "rds_rrcfiltered = signal.lfilter(rds_rrc_coeff, 1.0, rds_resampled)"
   ]
  },
  {
   "cell_type": "markdown",
   "metadata": {},
   "source": [
    "### Quadrature phase"
   ]
  },
  {
   "cell_type": "code",
   "execution_count": 14,
   "metadata": {},
   "outputs": [],
   "source": [
    "# Mixer\n",
    "rds_mixed_q = 2 * rds_filt_delayed * ncoOut_qPhase[:-1]\n",
    "\n",
    "rds_mixed_lfiltered_q = signal.lfilter(rds_lpf_coeff, 1.0, rds_mixed_q)\n",
    "\n",
    "rds_upsampled_q = upsample(rds_mixed_lfiltered_q, rds_upsampling_factor)\n",
    "\n",
    "rds_upsampled_lfilterd_q = signal.lfilter(rds_lpf_coeff, 1.0, rds_upsampled_q)\n",
    "\n",
    "rds_resampled_q = rds_upsampling_factor*rds_upsampled_lfilterd_q[::rds_downsampling_factor]\n",
    "\n",
    "rds_rrcfiltered_q = signal.lfilter(rds_rrc_coeff, 1.0, rds_resampled_q)"
   ]
  },
  {
   "cell_type": "markdown",
   "metadata": {},
   "source": [
    "## Sampling\n"
   ]
  },
  {
   "cell_type": "code",
   "execution_count": 15,
   "metadata": {},
   "outputs": [],
   "source": [
    "symbols_per_window = 5000\n",
    "winsize = (samples_per_symbol*symbols_per_window)\n",
    "winstart = 10 # BUG: there is a bug if you make this 3500 bc the start offset is sample 0. spw(100), sps(24), new_win(1)\n",
    "new_win = 0 # Pick a new window\n",
    "data_window_start = winstart + (samples_per_symbol*symbols_per_window*new_win)\n"
   ]
  },
  {
   "cell_type": "markdown",
   "metadata": {},
   "source": [
    "### In Phase"
   ]
  },
  {
   "cell_type": "code",
   "execution_count": 16,
   "metadata": {},
   "outputs": [
    {
     "name": "stdout",
     "output_type": "stream",
     "text": [
      "sampling start offset:  7\n",
      "val at offset:  -0.00024675133819440404\n",
      "[-2.46751338e-04 -4.31283601e-04 -8.62542179e-04 ...  8.35390890e-01\n",
      " -8.31927160e-01  5.51913383e-01]\n"
     ]
    },
    {
     "data": {
      "image/png": "[encoded data removed]",
      "text/plain": [
       "<Figure size 640x480 with 1 Axes>"
      ]
     },
     "metadata": {},
     "output_type": "display_data"
    }
   ],
   "source": [
    "rrc_data_window = rds_rrcfiltered[data_window_start:data_window_start+winsize]\n",
    "sampling_start_offset = sampling_start_adjust(rrc_data_window, samples_per_symbol)\n",
    "\n",
    "print(\"sampling start offset: \", sampling_start_offset)\n",
    "print(\"val at offset: \", rrc_data_window[sampling_start_offset])\n",
    "\n",
    "sampling_points = rrc_data_window[sampling_start_offset::samples_per_symbol]\n",
    "print(sampling_points)\n",
    "\n",
    "sampling_points_graphing = upsample(np.ones(symbols_per_window), samples_per_symbol)[:-(sampling_start_offset)]\n",
    "sampling_points_graphing = np.concatenate((np.zeros(sampling_start_offset), sampling_points_graphing))\n",
    "sampling_points_graphing = sampling_points_graphing * rrc_data_window\n",
    "\n",
    "plt.plot(sampling_points_graphing)\n",
    "plt.plot(rrc_data_window)\n",
    "plt.show()   "
   ]
  },
  {
   "cell_type": "markdown",
   "metadata": {},
   "source": [
    "### Quadrature Phase"
   ]
  },
  {
   "cell_type": "code",
   "execution_count": 17,
   "metadata": {},
   "outputs": [
    {
     "data": {
      "image/png": "[encoded data removed]",
      "text/plain": [
       "<Figure size 640x480 with 1 Axes>"
      ]
     },
     "metadata": {},
     "output_type": "display_data"
    }
   ],
   "source": [
    "rrc_data_window_q = rds_rrcfiltered_q[data_window_start:data_window_start+winsize]\n",
    "\n",
    "sampling_points_q = upsample(np.ones(symbols_per_window), samples_per_symbol)[:-(sampling_start_offset)]\n",
    "sampling_points_q = np.concatenate((np.zeros(sampling_start_offset), sampling_points_q))\n",
    "sampling_points_q = sampling_points_q * rrc_data_window_q\n",
    "\n",
    "plt.plot(sampling_points_q)\n",
    "plt.plot(rrc_data_window_q)\n",
    "plt.show()   "
   ]
  },
  {
   "cell_type": "markdown",
   "metadata": {},
   "source": [
    "## Constellation Plot"
   ]
  },
  {
   "cell_type": "code",
   "execution_count": 18,
   "metadata": {},
   "outputs": [
    {
     "data": {
      "image/png": "[encoded data removed]",
      "text/plain": [
       "<Figure size 640x480 with 1 Axes>"
      ]
     },
     "metadata": {},
     "output_type": "display_data"
    }
   ],
   "source": [
    "vals = sampling_points_graphing + 1j * sampling_points_q\n",
    "\n",
    "plt.scatter(vals.real, vals.imag, s=10)\n",
    "plt.xlabel('Real Part')\n",
    "plt.ylabel('Imaginary Part')\n",
    "plt.title('Scatter Plot of Complex Numbers')\n",
    "plt.grid(True)\n",
    "plt.show()"
   ]
  },
  {
   "cell_type": "code",
   "execution_count": 19,
   "metadata": {},
   "outputs": [],
   "source": [
    "def symbol_vals_to_bits(sampling_points, offset=0):\n",
    "    bool_array = np.zeros(int(len(sampling_points)/2), dtype=bool)\n",
    "    hh_count = 0\n",
    "    ll_count = 0\n",
    "    for i in range(0, len(sampling_points)-(offset+1), 2):\n",
    "        if sampling_points[i+offset] == 0 and \\\n",
    "            sampling_points[i+offset+1] == 0:\n",
    "            print(\"DOUBLE ZERO WARNING\")\n",
    "            bool_array[int(i/2)] = bool(0)\n",
    "\n",
    "        if sampling_points[i+offset] >= 0 and \\\n",
    "            sampling_points[i+offset+1] <= 0: #case HL\n",
    "            bool_array[int(i/2)] = bool(1)\n",
    "\n",
    "        elif sampling_points[i+offset] <= 0 and \\\n",
    "            sampling_points[i+offset+1] >= 0: #case LH\n",
    "            bool_array[int(i/2)] = bool(0)\n",
    "\n",
    "        elif sampling_points[i+offset] < 0 and \\\n",
    "            sampling_points[i+offset+1] < 0: #case LL\n",
    "            if (sampling_points[i+offset] < sampling_points[i+offset+1]): # weak LH\n",
    "                bool_array[int(i/2)] = bool(0)\n",
    "            elif (sampling_points[i+offset] >= sampling_points[i+offset+1]): # weak HL\n",
    "                bool_array[int(i/2)] = bool(1)\n",
    "            ll_count+=1\n",
    "\n",
    "        elif sampling_points[i+offset] > 0 and \\\n",
    "            sampling_points[i+offset+1] > 0: #case HH\n",
    "            if (sampling_points[i+offset] > sampling_points[i+offset+1]): # weak HL\n",
    "                bool_array[int(i/2)] = bool(1)\n",
    "            elif (sampling_points[i+offset] <= sampling_points[i+offset+1]): # weak LH\n",
    "                bool_array[int(i/2)] = bool(0)\n",
    "            hh_count+=1\n",
    "            \n",
    "    return bool_array, ll_count, hh_count\n",
    "\n",
    "def differential_decode(bool_array):\n",
    "    decoded = np.empty(len(bool_array)-1, dtype=bool)\n",
    "    for i in range(0, len(bool_array)-1):\n",
    "        decoded[i] = bool_array[i] ^ bool_array[i-1]\n",
    "    return decoded"
   ]
  },
  {
   "cell_type": "markdown",
   "metadata": {},
   "source": [
    "## Recover Bitstream"
   ]
  },
  {
   "cell_type": "code",
   "execution_count": 20,
   "metadata": {},
   "outputs": [
    {
     "name": "stdout",
     "output_type": "stream",
     "text": [
      "5000\n",
      "0: LL count: 7, HH count: 22\n",
      "1: LL count: 573, HH count: 588\n",
      "SELECTING BITSTREAM 0\n"
     ]
    }
   ],
   "source": [
    "bitstream0, ll_count0, hh_count0 = symbol_vals_to_bits(sampling_points, 0)\n",
    "bitstream1, ll_count1, hh_count1 = symbol_vals_to_bits(sampling_points, 1)\n",
    "\n",
    "\n",
    "print(len(sampling_points))\n",
    "print(f\"0: LL count: {ll_count0}, HH count: {hh_count0}\")\n",
    "print(f\"1: LL count: {ll_count1}, HH count: {hh_count1}\")\n",
    "\n",
    "# pick the right bitstream\n",
    "if (ll_count0+hh_count0) < (ll_count1+hh_count1):\n",
    "    print(\"SELECTING BITSTREAM 0\")\n",
    "    bitstream  = bitstream0\n",
    "else:\n",
    "    print(\"SELECTING BITSTREAM 1\")\n",
    "    bitstream = bitstream1\n"
   ]
  },
  {
   "cell_type": "markdown",
   "metadata": {},
   "source": [
    "## Differential Decoding"
   ]
  },
  {
   "cell_type": "code",
   "execution_count": 21,
   "metadata": {},
   "outputs": [
    {
     "data": {
      "image/png": "[encoded data removed]",
      "text/plain": [
       "<Figure size 640x480 with 1 Axes>"
      ]
     },
     "metadata": {},
     "output_type": "display_data"
    }
   ],
   "source": [
    "bitstream_decoded = differential_decode(bitstream)\n",
    "\n",
    "plt.plot(bitstream_decoded)\n",
    "plt.show()"
   ]
  },
  {
   "cell_type": "markdown",
   "metadata": {},
   "source": [
    "## Frame Synchronization"
   ]
  },
  {
   "cell_type": "code",
   "execution_count": 22,
   "metadata": {},
   "outputs": [],
   "source": [
    "le_ptit_matrix = np.array(\n",
    "[[1, 0, 0, 0, 0, 0, 0, 0, 0, 0],\n",
    " [0, 1, 0, 0, 0, 0, 0, 0, 0, 0], \n",
    " [0, 0, 1, 0, 0, 0, 0, 0, 0, 0],\n",
    " [0, 0, 0, 1, 0, 0, 0, 0, 0, 0],\n",
    " [0, 0, 0, 0, 1, 0, 0, 0, 0, 0],\n",
    " [0, 0, 0, 0, 0, 1, 0, 0, 0, 0],\n",
    " [0, 0, 0, 0, 0, 0, 1, 0, 0, 0],\n",
    " [0, 0, 0, 0, 0, 0, 0, 1, 0, 0],\n",
    " [0, 0, 0, 0, 0, 0, 0, 0, 1, 0],\n",
    " [0, 0, 0, 0, 0, 0, 0, 0, 0, 1],\n",
    " [1, 0, 1, 1, 0, 1, 1, 1, 0, 0],\n",
    " [0, 1, 0, 1, 1, 0, 1, 1, 1, 0],\n",
    " [0, 0, 1, 0, 1, 1, 0, 1, 1, 1],\n",
    " [1, 0, 1, 0, 0, 0, 0, 1, 1, 1],\n",
    " [1, 1, 1, 0, 0, 1, 1, 1, 1, 1],\n",
    " [1, 1, 0, 0, 0, 1, 0, 0, 1, 1],\n",
    " [1, 1, 0, 1, 0, 1, 0, 1, 0, 1],\n",
    " [1, 1, 0, 1, 1, 1, 0, 1, 1, 0],\n",
    " [0, 1, 1, 0, 1, 1, 1, 0, 1, 1],\n",
    " [1, 0, 0, 0, 0, 0, 0, 0, 0, 1],\n",
    " [1, 1, 1, 1, 0, 1, 1, 1, 0, 0],\n",
    " [0, 1, 1, 1, 1, 0, 1, 1, 1, 0],\n",
    " [0, 0, 1, 1, 1, 1, 0, 1, 1, 1],\n",
    " [1, 0, 1, 0, 1, 0, 0, 1, 1, 1],\n",
    " [1, 1, 1, 0, 0, 0, 1, 1, 1, 1],\n",
    " [1, 1, 0, 0, 0, 1, 1, 0, 1, 1]], dtype=bool)\n",
    "\n",
    "\n",
    "def matrix_multiply_bool(matrix1, matrix2):\n",
    "    if matrix1.ndim != 1:\n",
    "        raise ValueError(\"matrix1 must be a 1D array\")\n",
    "    \n",
    "    result = np.zeros(matrix2.shape[1], dtype=bool)\n",
    "    \n",
    "    for j in range(matrix2.shape[1]):\n",
    "        for k in range(matrix2.shape[0]):\n",
    "            result[j] ^= matrix1[k] & matrix2[k, j]\n",
    "    \n",
    "    return concat_bool_arr(result)\n",
    "\n",
    "def concat_bool_arr(bool_arr):\n",
    "    # Convert boolean array to integer\n",
    "    result = 0\n",
    "    for bit in bool_arr:\n",
    "        result = (result << 1) | int(bit)\n",
    "    return result\n",
    "\n",
    "def matches_syndrome(ten_bit_val):\n",
    "    les_syndromes = {\n",
    "        'A': 0b1111011000,\n",
    "        'B': 0b1111010100,\n",
    "        'C': 0b1001011100,\n",
    "        'Cprime': 0b1111001100,\n",
    "        'D': 0b1001011000\n",
    "    }\n",
    "\n",
    "    for syndrome, value in les_syndromes.items():\n",
    "        if ten_bit_val == value:\n",
    "            return True, syndrome\n",
    "        \n",
    "    return False, None"
   ]
  },
  {
   "cell_type": "code",
   "execution_count": 23,
   "metadata": {},
   "outputs": [
    {
     "name": "stdout",
     "output_type": "stream",
     "text": [
      "text Nirvanna\n",
      "text    On   \n",
      "text    On   \n",
      "missed: 0\n"
     ]
    }
   ],
   "source": [
    "check_len = 26\n",
    "last_start_idx = 0\n",
    "once = 1\n",
    "next_up = 0\n",
    "missed = 0\n",
    "text = '_'*8\n",
    "set = 0\n",
    "t = ''\n",
    "for start_idx in range(0, len(bitstream_decoded)-check_len):\n",
    "    twenty_six_bit_value = bitstream_decoded[start_idx:start_idx+check_len]\n",
    "    ten_bit_code = matrix_multiply_bool(twenty_six_bit_value, le_ptit_matrix)\n",
    "\n",
    "    is_valid, syndrome = matches_syndrome(ten_bit_code)\n",
    "    if is_valid:\n",
    "        if (start_idx-last_start_idx) < 26:\n",
    "            if once:\n",
    "                once = 0\n",
    "            else:\n",
    "                missed +=1\n",
    "                print(\"missed one\")\n",
    "        # print(f\"{start_idx} {start_idx-last_start_idx} found the syndrome: \", syndrome)\n",
    "        last_start_idx = start_idx\n",
    "\n",
    "        if syndrome == 'A':\n",
    "            print(f\"PI: {hex(concat_bool_arr(twenty_six_bit_value[:16]))}\")\n",
    "        if syndrome == 'B':\n",
    "            print(f\"PTY: {(concat_bool_arr(twenty_six_bit_value[6:11]))}\")\n",
    "            next_up = concat_bool_arr(twenty_six_bit_value[:5])\n",
    "            next_up_pos = concat_bool_arr(twenty_six_bit_value[14:16])\n",
    "        if syndrome == 'D':\n",
    "            if next_up == 0 or next_up == 1:\n",
    "                if set < 4:\n",
    "                    set += 1\n",
    "                text = text[:2*next_up_pos] + chr(concat_bool_arr(twenty_six_bit_value[:8])) + chr(concat_bool_arr(twenty_six_bit_value[8:16])) + text[2*next_up_pos + 2:]\n",
    "                if next_up_pos == 0b11 and set == 4:\n",
    "                    print(\"text\", text)\n",
    "                    text = '_'*8\n",
    "                    set = 0\n",
    "                \n",
    "            \n",
    "        # if syndrome == 'C':\n",
    "print(\"missed:\", missed)"
   ]
  },
  {
   "cell_type": "code",
   "execution_count": null,
   "metadata": {},
   "outputs": [],
   "source": []
  }
 ],
 "metadata": {
  "kernelspec": {
   "display_name": "Python 3",
   "language": "python",
   "name": "python3"
  },
  "language_info": {
   "codemirror_mode": {
    "name": "ipython",
    "version": 3
   },
   "file_extension": ".py",
   "mimetype": "text/x-python",
   "name": "python",
   "nbconvert_exporter": "python",
   "pygments_lexer": "ipython3",
   "version": "3.11.7"
  }
 },
 "nbformat": 4,
 "nbformat_minor": 2
}
