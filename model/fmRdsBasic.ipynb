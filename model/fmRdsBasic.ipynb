{
 "cells": [
  {
   "cell_type": "markdown",
   "metadata": {},
   "source": [
    "## Imports"
   ]
  },
  {
   "cell_type": "code",
   "execution_count": 2,
   "metadata": {},
   "outputs": [],
   "source": [
    "import matplotlib.pyplot as plt\n",
    "from scipy.io import wavfile\n",
    "from scipy import signal\n",
    "import numpy as np\n",
    "import math\n",
    "\n",
    "# use fmDemodArctan and fmPlotPSD\n",
    "from fmSupportLib import fmDemodArctan, fmPlotPSD, own_lfilter, lpCoeff, custom_fm_demod, logVector, bpFirwin, fmPll, delayBlock\n",
    "from fmRRC import impulseResponseRootRaisedCosine\n",
    "# for take-home add your functions\n"
   ]
  },
  {
   "cell_type": "code",
   "execution_count": 3,
   "metadata": {},
   "outputs": [],
   "source": [
    "def upsample(y, upsampling_factor):\n",
    "    if upsampling_factor == 1:\n",
    "        return y\n",
    "\n",
    "    original_size = len(y)\n",
    "    y_extended = np.zeros(original_size * upsampling_factor)\n",
    "    y_extended[::upsampling_factor] = y\n",
    "\n",
    "    return y_extended"
   ]
  },
  {
   "cell_type": "markdown",
   "metadata": {},
   "source": [
    "## Constants"
   ]
  },
  {
   "cell_type": "code",
   "execution_count": 4,
   "metadata": {},
   "outputs": [],
   "source": [
    "rf_Fs = 2.4e6\n",
    "rf_Fc = 100e3\n",
    "rf_taps = 101\n",
    "rf_decim = 10\n",
    "\n",
    "audio_taps = 101\n",
    "audio_Fc = 16e3\n",
    "audio_decim = 5\n",
    "audio_Fs = 48e3\n",
    "\n",
    "rds_bpf_fc_low = 54e3\n",
    "rds_bpf_fc_high = 60e3\n",
    "rds_bpf_taps = 101\n",
    "\n",
    "rds_lpf_fc = 3e3\n",
    "rds_lpf_taps = 101\n",
    "\n",
    "rds_rrc_taps = 151\n",
    "\n",
    "rds_upsampling_factor = 19\n",
    "rds_downsampling_factor = 80\n",
    "rds_decim = rds_downsampling_factor/rds_upsampling_factor\n",
    "\n",
    "rds_squared_bpf_fc_low = 113.5e3\n",
    "rds_squared_bpf_fc_high = 114.5e3\n",
    "rds_carrier_frequency = 114e3\n",
    "rds_squared_bpf_taps = 101"
   ]
  },
  {
   "cell_type": "markdown",
   "metadata": {},
   "source": [
    "## State Variables (useless in single pass)"
   ]
  },
  {
   "cell_type": "code",
   "execution_count": 5,
   "metadata": {},
   "outputs": [],
   "source": [
    "state_i_lpf_100k = np.zeros(rf_taps-1)\n",
    "state_q_lpf_100k = np.zeros(rf_taps-1)\n",
    "rds_filt_state_bpf = np.zeros(rds_squared_bpf_taps-1)\n",
    "rds_filt_state_apf = np.zeros(int((rds_bpf_taps-1)/2))\n",
    "rds_filt_state_lpf = np.zeros(rds_lpf_taps-1)\n",
    "state_phase = 0\n",
    "state_i_custom = np.float64(0.0)\n",
    "state_q_custom = np.float64(0.0)\n",
    "\n",
    "# INIITIAL PLL STATES\n",
    "pll_state_integrator = 0.0\n",
    "pll_state_phaseEst = 0.0\n",
    "pll_state_feedbackI = 1.0\n",
    "pll_state_feedbackQ = 0.0\n",
    "pll_state_trigOffset = 0\n",
    "pll_state_lastNco = 1.0\n",
    "\n",
    "pll_state_integrator_q =  0.0\n",
    "pll_state_phaseEst_q =  0.0\n",
    "pll_state_feedbackI_q =  1.0\n",
    "pll_state_feedbackQ_q =  0.0\n",
    "pll_state_trigOffset_q =  0\n",
    "pll_state_lastNco_q =  1.0"
   ]
  },
  {
   "cell_type": "markdown",
   "metadata": {},
   "source": [
    "## Read In Raw Data"
   ]
  },
  {
   "cell_type": "code",
   "execution_count": 6,
   "metadata": {},
   "outputs": [
    {
     "name": "stdout",
     "output_type": "stream",
     "text": [
      "Read raw RF data from \"../data/samples9.raw\" in unsigned 8-bit format\n",
      "Reformatted raw RF data to 32-bit float format (96000000 bytes)\n"
     ]
    }
   ],
   "source": [
    "in_fname = \"../data/samples9.raw\"\n",
    "\n",
    "raw_data = np.fromfile(in_fname, dtype='uint8')\n",
    "print(\"Read raw RF data from \\\"\" + in_fname + \"\\\" in unsigned 8-bit format\")\n",
    "# IQ data is normalized between -1 and +1 in 32-bit float format\n",
    "iq_data = (np.float32(raw_data) - 128.0)/128.0\n",
    "print(\"Reformatted raw RF data to 32-bit float format (\" + str(iq_data.size * iq_data.itemsize) + \" bytes)\")\n",
    "\n",
    "# set up the subfigures for plotting\n",
    "# subfig_height = np.array([0.8, 2, 1.6])\n",
    "# plt.rc('figure', figsize=(7.5, 7.5))\t\n",
    "# fig, (ax0, ax1, ax2) = plt.subplots(nrows=3, gridspec_kw={'height_ratios': subfig_height})\n",
    "# fig.subplots_adjust(hspace = .6)"
   ]
  },
  {
   "cell_type": "markdown",
   "metadata": {},
   "source": [
    "## Calculate the filter coefficients"
   ]
  },
  {
   "cell_type": "code",
   "execution_count": 7,
   "metadata": {},
   "outputs": [],
   "source": [
    "rf_coeff = signal.firwin(rf_taps, rf_Fc/(rf_Fs/2), window=('hann'))\n",
    "\n",
    "audio_coeff = signal.firwin(audio_taps, audio_Fc/((rf_Fs/rf_decim)/2), window=('hann'))\n",
    "\n",
    "rds_bpf_coeff = bpFirwin((rf_Fs/rf_decim), \n",
    "                            rds_bpf_fc_low, \n",
    "                            rds_bpf_fc_high, \n",
    "                            rds_bpf_taps)\n",
    "\n",
    "rds_squared_bpf_coeff = bpFirwin((rf_Fs/rf_decim), \n",
    "                                    rds_squared_bpf_fc_low, \n",
    "                                    rds_squared_bpf_fc_high, \n",
    "                                    rds_squared_bpf_taps)\n",
    "\n",
    "rds_lpf_coeff = signal.firwin(rds_lpf_taps, rds_lpf_fc/((rf_Fs/rf_decim)/2), window=('hann'))\n",
    "\n",
    "\n",
    "\n",
    "rds_rrc_coeff = impulseResponseRootRaisedCosine(rf_Fs/(rf_decim*rds_decim), rds_rrc_taps)\n"
   ]
  },
  {
   "cell_type": "markdown",
   "metadata": {},
   "source": []
  },
  {
   "cell_type": "markdown",
   "metadata": {},
   "source": [
    "## RF Front End"
   ]
  },
  {
   "cell_type": "code",
   "execution_count": 8,
   "metadata": {},
   "outputs": [],
   "source": [
    "i_filt = signal.lfilter(rf_coeff, 1.0, iq_data[::2])\n",
    "q_filt = signal.lfilter(rf_coeff, 1.0, iq_data[1::2])\n",
    "\n",
    "i_ds = i_filt[::rf_decim]\n",
    "q_ds = q_filt[::rf_decim]\n",
    "\n",
    "fm_demod, dummy = fmDemodArctan(i_ds, q_ds)"
   ]
  },
  {
   "cell_type": "markdown",
   "metadata": {},
   "source": [
    "## Audio check"
   ]
  },
  {
   "cell_type": "code",
   "execution_count": 9,
   "metadata": {},
   "outputs": [],
   "source": [
    "# audio_filt = signal.lfilter(audio_coeff, 1.0, fm_demod[0])\n",
    "# audio_data = audio_filt[::audio_decim] # to be updated by you during in-lab (same code for takehome)\n",
    "# out_fname = \"../data/fmRdsBasic_mono.wav\"\n",
    "# wavfile.write(out_fname, int(audio_Fs), np.int16((audio_data/2)*32767))"
   ]
  },
  {
   "cell_type": "markdown",
   "metadata": {},
   "source": [
    "## RDS Data Extraction"
   ]
  },
  {
   "cell_type": "markdown",
   "metadata": {},
   "source": [
    "### In phase"
   ]
  },
  {
   "cell_type": "code",
   "execution_count": 10,
   "metadata": {},
   "outputs": [],
   "source": [
    "# Bandpass filter\n",
    "rds_filt = signal.lfilter(rds_bpf_coeff, 1.0, fm_demod)\n",
    "\n",
    "# square signal\n",
    "rds_filt_squared = rds_filt*rds_filt\n",
    "\n",
    "rds_filt_carrier = signal.lfilter(rds_squared_bpf_coeff, 1.0, rds_filt_squared)\n",
    "\n",
    "ncoOut_inPhase, pll_state_integrator, pll_state_phaseEst, pll_state_trigOffset, pll_state_lastNco = fmPll(\n",
    "\t\t\trds_filt_carrier, \n",
    "\t\t\trds_carrier_frequency, \n",
    "\t\t\trf_Fs/rf_decim, \n",
    "\t\t\tpll_state_integrator, \n",
    "\t\t\tpll_state_phaseEst,\n",
    "\t\t\tpll_state_feedbackI,\n",
    "\t\t\tpll_state_feedbackQ,\n",
    "\t\t\tpll_state_trigOffset, \n",
    "\t\t\tpll_state_lastNco, \n",
    "\t\t\tncoScale=0.5,\n",
    "\t\t\tnormBandwidth=0.0025)\n",
    "\n",
    "# plt.plot(ncoOut[10000:10100])\n",
    "# plt.plot(100*rds_filt_carrier[10000:10100])\n",
    "# plt.show()"
   ]
  },
  {
   "cell_type": "markdown",
   "metadata": {},
   "source": [
    "### Quadrature phase"
   ]
  },
  {
   "cell_type": "code",
   "execution_count": 11,
   "metadata": {},
   "outputs": [],
   "source": [
    "# Bandpass filter\n",
    "rds_filt = signal.lfilter(rds_bpf_coeff, 1.0, fm_demod)\n",
    "\n",
    "# square signal\n",
    "rds_filt_squared = rds_filt*rds_filt\n",
    "\n",
    "rds_filt_carrier = signal.lfilter(rds_squared_bpf_coeff, 1.0, rds_filt_squared)\n",
    "\n",
    "ncoOut_qPhase, pll_state_integrator_q, pll_state_phaseEst_q, pll_state_trigOffset_q, pll_state_lastNco_q = fmPll(\n",
    "\t\t\trds_filt_carrier, \n",
    "\t\t\trds_carrier_frequency, \n",
    "\t\t\trf_Fs/rf_decim, \n",
    "\t\t\tpll_state_integrator_q, \n",
    "\t\t\tpll_state_phaseEst_q,\n",
    "\t\t\tpll_state_feedbackI_q,\n",
    "\t\t\tpll_state_feedbackQ_q,\n",
    "\t\t\tpll_state_trigOffset_q, \n",
    "\t\t\tpll_state_lastNco_q, \n",
    "\t\t\tncoScale=0.5,\n",
    "\t\t\tnormBandwidth=0.0025,\n",
    "            phaseAdjust=math.pi/4)"
   ]
  },
  {
   "cell_type": "markdown",
   "metadata": {},
   "source": [
    "## All Pass filter rds data"
   ]
  },
  {
   "cell_type": "code",
   "execution_count": 12,
   "metadata": {},
   "outputs": [],
   "source": [
    "rds_filt_delayed, rds_filt_state_apf = delayBlock(rds_filt, rds_filt_state_apf)\n"
   ]
  },
  {
   "cell_type": "markdown",
   "metadata": {},
   "source": [
    "## RDS Demodulation"
   ]
  },
  {
   "cell_type": "markdown",
   "metadata": {},
   "source": [
    "### In phase\n"
   ]
  },
  {
   "cell_type": "code",
   "execution_count": 13,
   "metadata": {},
   "outputs": [],
   "source": [
    "# Mixer\n",
    "rds_mixed = rds_filt_delayed * ncoOut_inPhase[:-1]\n",
    "\n",
    "rds_mixed_lfiltered = signal.lfilter(rds_lpf_coeff, 1.0, rds_mixed)\n",
    "\n",
    "rds_upsampled = upsample(rds_mixed_lfiltered, rds_upsampling_factor)\n",
    "\n",
    "rds_upsampled_lfilterd = signal.lfilter(rds_lpf_coeff, 1.0, rds_upsampled)\n",
    "\n",
    "rds_resampled = rds_upsampled_lfilterd[::rds_downsampling_factor]\n",
    "\n",
    "rds_rrcfiltered = signal.lfilter(rds_rrc_coeff, 1.0, rds_resampled)"
   ]
  },
  {
   "cell_type": "markdown",
   "metadata": {},
   "source": [
    "### Quadrature phase"
   ]
  },
  {
   "cell_type": "code",
   "execution_count": 14,
   "metadata": {},
   "outputs": [],
   "source": [
    "# Mixer\n",
    "rds_mixed = rds_filt_delayed * ncoOut_inPhase[:-1]\n",
    "\n",
    "rds_mixed_lfiltered = signal.lfilter(rds_lpf_coeff, 1.0, rds_mixed)\n",
    "\n",
    "rds_upsampled = upsample(rds_mixed_lfiltered, rds_upsampling_factor)\n",
    "\n",
    "rds_upsampled_lfilterd = signal.lfilter(rds_lpf_coeff, 1.0, rds_upsampled)\n",
    "\n",
    "rds_resampled = rds_upsampled_lfilterd[::rds_downsampling_factor]\n",
    "\n",
    "rds_rrcfiltered = signal.lfilter(rds_rrc_coeff, 1.0, rds_resampled)"
   ]
  },
  {
   "cell_type": "markdown",
   "metadata": {},
   "source": [
    "## Sampling Playground\n"
   ]
  },
  {
   "cell_type": "code",
   "execution_count": 40,
   "metadata": {},
   "outputs": [
    {
     "data": {
      "image/png": "[encoded data removed]",
      "text/plain": [
       "<Figure size 640x480 with 1 Axes>"
      ]
     },
     "metadata": {},
     "output_type": "display_data"
    }
   ],
   "source": [
    "samples_per_symbol = 24\n",
    "symbols_per_window = 20\n",
    "winsize = (samples_per_symbol*symbols_per_window)\n",
    "\n",
    "winsize\n",
    "\n",
    "new_win = 355\n",
    "\n",
    "sample_window_start = 11995+samples_per_symbol*symbols_per_window*new_win\n",
    "no_rrc_sample_window = rds_resampled[sample_window_start:sample_window_start+winsize]\n",
    "rrc_sample_window = rds_rrcfiltered[sample_window_start:sample_window_start+winsize]\n",
    "\n",
    "samples = np.ones(symbols_per_window)\n",
    "samples = upsample(samples, samples_per_symbol)\n",
    "\n",
    "samples_no_rrc = samples * no_rrc_sample_window\n",
    "samples_rrc = samples * rrc_sample_window\n",
    "\n",
    "plt.plot(samples_rrc)\n",
    "plt.plot(samples_no_rrc)\n",
    "plt.plot(rrc_sample_window)\n",
    "plt.show()\n"
   ]
  },
  {
   "cell_type": "code",
   "execution_count": 41,
   "metadata": {},
   "outputs": [
    {
     "name": "stdout",
     "output_type": "stream",
     "text": [
      "sampling start 23\n",
      "480\n",
      "[1 0 1 0 1 1 0 1 1 0]\n"
     ]
    },
    {
     "data": {
      "image/png": "[encoded data removed]",
      "text/plain": [
       "<Figure size 640x480 with 1 Axes>"
      ]
     },
     "metadata": {},
     "output_type": "display_data"
    }
   ],
   "source": [
    "def sampling_start_adjust(block, samples_per_symbol):\n",
    "    abs_min_idx = 0\n",
    "    abs_min = abs(block[abs_min_idx])\n",
    "    for i in range(0, len(block)):\n",
    "        diff = abs(block[i])\n",
    "        if diff < abs_min:\n",
    "            abs_min = diff\n",
    "            abs_min_idx = i\n",
    "\n",
    "    return i % samples_per_symbol\n",
    "\n",
    "samples_per_symbol = 24\n",
    "symbols_per_window = 20\n",
    "winsize = (samples_per_symbol*symbols_per_window)\n",
    "\n",
    "new_win = 0\n",
    "sample_window_off = 0\n",
    "\n",
    "sample_window = 1222+samples_per_symbol*symbols_per_window*new_win\n",
    "sampling_start = sampling_start_adjust(rds_resampled[sample_window:sample_window+winsize], samples_per_symbol)\n",
    "print(\"sampling start\", sampling_start)\n",
    "samples = np.ones(symbols_per_window)\n",
    "samples_upsampled = upsample(samples, samples_per_symbol)[:-(sampling_start+1)]\n",
    "\n",
    "samples = np.concatenate((np.zeros(sampling_start+1), samples_upsampled))\n",
    "\n",
    "rrc_sample_window = rds_rrcfiltered[sample_window_start:sample_window_start+winsize]\n",
    "\n",
    "samples_rrc = samples * rrc_sample_window\n",
    "\n",
    "bool_array = np.empty(int(symbols_per_window/2), dtype=int)\n",
    "index = 0\n",
    "errors = 0\n",
    "\n",
    "print(winsize)\n",
    "\n",
    "for i in range(sampling_start, winsize, 2*samples_per_symbol):\n",
    "    if rrc_sample_window[i] > 0 and rrc_sample_window[i+samples_per_symbol] < 0:\n",
    "        bool_array[index] = 1\n",
    "    elif rrc_sample_window[i] < 0 and rrc_sample_window[i+samples_per_symbol] > 0:\n",
    "        bool_array[index] = 0\n",
    "    else:\n",
    "        bool_array[index] = -1\n",
    "    index = index + 1    \n",
    "\n",
    "print(bool_array)\n",
    "\n",
    "plt.plot(samples_rrc)\n",
    "plt.plot(rrc_sample_window)\n",
    "plt.ylim(-0.12, 0.12)\n",
    "plt.show()\n"
   ]
  },
  {
   "cell_type": "code",
   "execution_count": null,
   "metadata": {},
   "outputs": [],
   "source": []
  }
 ],
 "metadata": {
  "kernelspec": {
   "display_name": "Python 3",
   "language": "python",
   "name": "python3"
  },
  "language_info": {
   "codemirror_mode": {
    "name": "ipython",
    "version": 3
   },
   "file_extension": ".py",
   "mimetype": "text/x-python",
   "name": "python",
   "nbconvert_exporter": "python",
   "pygments_lexer": "ipython3",
   "version": "3.11.7"
  }
 },
 "nbformat": 4,
 "nbformat_minor": 2
}
