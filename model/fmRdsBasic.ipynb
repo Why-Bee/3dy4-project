{
 "cells": [
  {
   "cell_type": "markdown",
   "metadata": {},
   "source": [
    "## Imports"
   ]
  },
  {
   "cell_type": "code",
   "execution_count": 1,
   "metadata": {},
   "outputs": [],
   "source": [
    "import matplotlib.pyplot as plt\n",
    "from scipy.io import wavfile\n",
    "from scipy import signal\n",
    "import numpy as np\n",
    "import math\n",
    "\n",
    "# use fmDemodArctan and fmPlotPSD\n",
    "from fmSupportLib import fmDemodArctan, fmPlotPSD, own_lfilter, lpCoeff, custom_fm_demod, logVector, bpFirwin, fmPll, delayBlock, estimatePSD\n",
    "from fmRRC import impulseResponseRootRaisedCosine\n",
    "# for take-home add your functions\n"
   ]
  },
  {
   "cell_type": "code",
   "execution_count": 2,
   "metadata": {},
   "outputs": [],
   "source": [
    "def upsample(y, upsampling_factor):\n",
    "    if upsampling_factor == 1:\n",
    "        return y\n",
    "\n",
    "    original_size = len(y)\n",
    "    y_extended = np.zeros(original_size * upsampling_factor)\n",
    "    y_extended[::upsampling_factor] = y\n",
    "\n",
    "    return y_extended"
   ]
  },
  {
   "cell_type": "markdown",
   "metadata": {},
   "source": [
    "## Constants"
   ]
  },
  {
   "cell_type": "code",
   "execution_count": 3,
   "metadata": {},
   "outputs": [],
   "source": [
    "rf_Fs = 2.4e6\n",
    "rf_Fc = 100e3\n",
    "rf_taps = 101\n",
    "rf_decim = 10\n",
    "\n",
    "audio_taps = 101\n",
    "audio_Fc = 16e3\n",
    "audio_decim = 5\n",
    "audio_Fs = 48e3\n",
    "\n",
    "rds_bpf_fc_low = 54e3\n",
    "rds_bpf_fc_high = 60e3\n",
    "rds_bpf_taps = 101\n",
    "\n",
    "rds_lpf_fc = 3e3\n",
    "rds_lpf_taps = 101\n",
    "\n",
    "rds_rrc_taps = 151\n",
    "\n",
    "rds_upsampling_factor = 19\n",
    "rds_downsampling_factor = 80\n",
    "rds_decim = rds_downsampling_factor/rds_upsampling_factor\n",
    "\n",
    "rds_resampler_gain = rds_upsampling_factor\n",
    "rds_resampler_taps = rds_lpf_taps*rds_upsampling_factor\n",
    "rds_resampler_Fc = min((rds_upsampling_factor/rds_downsampling_factor)*((rf_Fs/rf_decim)/2), (rf_Fs/rf_decim)/2)\n",
    "\n",
    "rds_squared_bpf_fc_low = 113.5e3\n",
    "rds_squared_bpf_fc_high = 114.5e3\n",
    "rds_carrier_frequency = 114e3\n",
    "rds_squared_bpf_taps = 101"
   ]
  },
  {
   "cell_type": "markdown",
   "metadata": {},
   "source": [
    "## State Variables (useless in single pass)"
   ]
  },
  {
   "cell_type": "code",
   "execution_count": 4,
   "metadata": {},
   "outputs": [],
   "source": [
    "state_i_lpf_100k = np.zeros(rf_taps-1)\n",
    "state_q_lpf_100k = np.zeros(rf_taps-1)\n",
    "rds_filt_state_bpf = np.zeros(rds_squared_bpf_taps-1)\n",
    "rds_filt_state_apf = np.zeros(int((rds_bpf_taps-1)/2))\n",
    "rds_filt_state_lpf = np.zeros(rds_lpf_taps-1)\n",
    "rds_resampler_filt_state = np.zeros(rds_resampler_taps-1)\n",
    "state_phase = 0\n",
    "state_i_custom = np.float64(0.0)\n",
    "state_q_custom = np.float64(0.0)\n",
    "\n",
    "# INIITIAL PLL STATES\n",
    "pll_state_integrator = 0.0\n",
    "pll_state_phaseEst = 0.0\n",
    "pll_state_feedbackI = 1.0\n",
    "pll_state_feedbackQ = 0.0\n",
    "pll_state_trigOffset = 0\n",
    "pll_state_lastNco_Inphase = 1.0\n",
    "pll_state_lastNco_Quad = 0.0\n",
    "\n",
    "# pll_state_integrator_q =  0.0\n",
    "# pll_state_phaseEst_q =  0.0\n",
    "# pll_state_feedbackI_q =  1.0\n",
    "# pll_state_feedbackQ_q =  0.0\n",
    "# pll_state_trigOffset_q =  0\n",
    "# pll_state_lastNco_q =  1.0"
   ]
  },
  {
   "cell_type": "markdown",
   "metadata": {},
   "source": [
    "## Read In Raw Data"
   ]
  },
  {
   "cell_type": "code",
   "execution_count": 5,
   "metadata": {},
   "outputs": [
    {
     "name": "stdout",
     "output_type": "stream",
     "text": [
      "Read raw RF data from \"../data/iq_samples/samples9.raw\" in unsigned 8-bit format\n",
      "Reformatted raw RF data to 32-bit float format (96000000 bytes)\n"
     ]
    }
   ],
   "source": [
    "in_fname = \"../data/iq_samples/samples9.raw\"\n",
    "\n",
    "raw_data = np.fromfile(in_fname, dtype='uint8')\n",
    "print(\"Read raw RF data from \\\"\" + in_fname + \"\\\" in unsigned 8-bit format\")\n",
    "# IQ data is normalized between -1 and +1 in 32-bit float format\n",
    "iq_data = (np.float32(raw_data) - 128.0)/128.0\n",
    "print(\"Reformatted raw RF data to 32-bit float format (\" + str(iq_data.size * iq_data.itemsize) + \" bytes)\")\n",
    "\n",
    "#set up the subfigures for plotting\n",
    "\n",
    "# subfig_height = np.array([1, 1, 1])\n",
    "# plt.rc('figure', figsize=(7.5, 7.5))\t\n",
    "# fig, (ax0, ax1, ax2) = plt.subplots(nrows=3, gridspec_kw={'height_ratios': subfig_height})\n",
    "# fig.subplots_adjust(hspace = .6)"
   ]
  },
  {
   "cell_type": "markdown",
   "metadata": {},
   "source": [
    "## Calculate the filter coefficients"
   ]
  },
  {
   "cell_type": "code",
   "execution_count": 6,
   "metadata": {},
   "outputs": [],
   "source": [
    "rf_coeff = signal.firwin(rf_taps, rf_Fc/(rf_Fs/2), window=('hann'))\n",
    "\n",
    "audio_coeff = signal.firwin(audio_taps, audio_Fc/((rf_Fs/rf_decim)/2), window=('hann'))\n",
    "\n",
    "rds_bpf_coeff = bpFirwin((rf_Fs/rf_decim), \n",
    "                            rds_bpf_fc_low, \n",
    "                            rds_bpf_fc_high, \n",
    "                            rds_bpf_taps)\n",
    "\n",
    "rds_squared_bpf_coeff = bpFirwin((rf_Fs/rf_decim), \n",
    "                                    rds_squared_bpf_fc_low, \n",
    "                                    rds_squared_bpf_fc_high, \n",
    "                                    rds_squared_bpf_taps)\n",
    "\n",
    "rds_lpf_coeff = signal.firwin(rds_lpf_taps, rds_lpf_fc/((rf_Fs/rf_decim)/2), window=('hann'))\n",
    "\n",
    "rds_resampler_coeff = signal.firwin(rds_resampler_taps, rds_resampler_Fc/(rds_upsampling_factor*((rf_Fs/rf_decim)/2)), window=('hann'))\n",
    "\n",
    "rds_rrc_coeff = impulseResponseRootRaisedCosine(rf_Fs/(rf_decim*rds_decim), rds_rrc_taps)\n"
   ]
  },
  {
   "cell_type": "markdown",
   "metadata": {},
   "source": []
  },
  {
   "cell_type": "markdown",
   "metadata": {},
   "source": [
    "## RF Front End"
   ]
  },
  {
   "cell_type": "code",
   "execution_count": 7,
   "metadata": {},
   "outputs": [],
   "source": [
    "i_filt = signal.lfilter(rf_coeff, 1.0, iq_data[::2])\n",
    "q_filt = signal.lfilter(rf_coeff, 1.0, iq_data[1::2])\n",
    "\n",
    "i_ds = i_filt[::rf_decim]\n",
    "q_ds = q_filt[::rf_decim]\n",
    "\n",
    "fm_demod, dummy = fmDemodArctan(i_ds, q_ds)\n",
    "\n"
   ]
  },
  {
   "cell_type": "markdown",
   "metadata": {},
   "source": [
    "## Audio check"
   ]
  },
  {
   "cell_type": "code",
   "execution_count": null,
   "metadata": {},
   "outputs": [],
   "source": [
    "# audio_filt = signal.lfilter(audio_coeff, 1.0, fm_demod[0])\n",
    "# audio_data = audio_filt[::audio_decim] # to be updated by you during in-lab (same code for takehome)\n",
    "# out_fname = \"../data/fmRdsBasic_mono.wav\"\n",
    "# wavfile.write(out_fname, int(audio_Fs), np.int16((audio_data/2)*32767))"
   ]
  },
  {
   "cell_type": "markdown",
   "metadata": {},
   "source": [
    "## RDS Data Extraction"
   ]
  },
  {
   "cell_type": "markdown",
   "metadata": {},
   "source": [
    "### In phase and quadrature together"
   ]
  },
  {
   "cell_type": "code",
   "execution_count": 8,
   "metadata": {},
   "outputs": [],
   "source": [
    "# Bandpass filter\n",
    "rds_filt = signal.lfilter(rds_bpf_coeff, 1.0, fm_demod)\n",
    "\n",
    "# square signal\n",
    "rds_filt_squared = rds_filt*rds_filt\n",
    "\n",
    "rds_filt_carrier = signal.lfilter(rds_squared_bpf_coeff, 1.0, rds_filt_squared)\n",
    "\n",
    "ncoOut_inPhase, ncoOut_Quad, pll_state_integrator, pll_state_phaseEst, pll_state_trigOffset, pll_state_lastNco, pll_state_lastNco_Quad = fmPll(\n",
    "\t\t\trds_filt_carrier, \n",
    "\t\t\trds_carrier_frequency, \n",
    "\t\t\trf_Fs/rf_decim, \n",
    "\t\t\tpll_state_integrator, \n",
    "\t\t\tpll_state_phaseEst,\n",
    "\t\t\tpll_state_feedbackI,\n",
    "\t\t\tpll_state_feedbackQ,\n",
    "\t\t\tpll_state_trigOffset, \n",
    "\t\t\tpll_state_lastNco_Inphase,\n",
    "            pll_state_lastNco_Quad, \n",
    "\t\t\tncoScale=0.5,\n",
    "\t\t\tnormBandwidth=0.0025)\n",
    "\n",
    "\n"
   ]
  },
  {
   "cell_type": "markdown",
   "metadata": {},
   "source": [
    "## All Pass filter rds data"
   ]
  },
  {
   "cell_type": "code",
   "execution_count": 9,
   "metadata": {},
   "outputs": [],
   "source": [
    "rds_filt_delayed, rds_filt_state_apf = delayBlock(rds_filt, rds_filt_state_apf)\n"
   ]
  },
  {
   "cell_type": "markdown",
   "metadata": {},
   "source": [
    "## RDS Demodulation"
   ]
  },
  {
   "cell_type": "markdown",
   "metadata": {},
   "source": [
    "### In phase\n"
   ]
  },
  {
   "cell_type": "code",
   "execution_count": 10,
   "metadata": {},
   "outputs": [],
   "source": [
    "# Mixer\n",
    "rds_mixed_inPhase = rds_filt_delayed * ncoOut_inPhase[:-1]\n",
    "\n",
    "rds_mixed_lfiltered_inPhase = signal.lfilter(rds_lpf_coeff, 1.0, rds_mixed_inPhase)\n",
    "\n",
    "rds_upsampled_inPhase = upsample(rds_mixed_lfiltered_inPhase, rds_upsampling_factor)\n",
    "\n",
    "rds_upsampled_lfilterd_inPhase = rds_resampler_gain * signal.lfilter(rds_resampler_coeff, 1.0, rds_upsampled_inPhase)\n",
    "\n",
    "rds_resampled_inPhase = rds_upsampled_lfilterd_inPhase[::rds_downsampling_factor]\n",
    "\n",
    "rds_rrcfiltered_inPhase = signal.lfilter(rds_rrc_coeff, 1.0, rds_resampled_inPhase)"
   ]
  },
  {
   "cell_type": "markdown",
   "metadata": {},
   "source": [
    "### Quadrature phase"
   ]
  },
  {
   "cell_type": "code",
   "execution_count": 11,
   "metadata": {},
   "outputs": [],
   "source": [
    "# Mixer\n",
    "rds_mixed_quad = rds_filt_delayed * ncoOut_Quad[:-1]\n",
    "\n",
    "rds_mixed_lfiltered_quad = signal.lfilter(rds_lpf_coeff, 1.0, rds_mixed_quad)\n",
    "\n",
    "rds_upsampled_quad = upsample(rds_mixed_lfiltered_quad, rds_upsampling_factor)\n",
    "\n",
    "rds_upsampled_lfilterd_quad = signal.lfilter(rds_lpf_coeff, 1.0, rds_upsampled_quad)\n",
    "\n",
    "rds_resampled_quad = rds_upsampled_lfilterd_quad[::rds_downsampling_factor]\n",
    "\n",
    "rds_rrcfiltered_quad = signal.lfilter(rds_rrc_coeff, 1.0, rds_resampled_quad)"
   ]
  },
  {
   "cell_type": "markdown",
   "metadata": {},
   "source": [
    "## Sampling Playground\n"
   ]
  },
  {
   "cell_type": "code",
   "execution_count": null,
   "metadata": {},
   "outputs": [],
   "source": [
    "samples_per_symbol = 24\n",
    "symbols_per_window = 10\n",
    "winsize = (samples_per_symbol*symbols_per_window)\n",
    "\n",
    "winsize\n",
    "\n",
    "new_win = 355\n",
    "\n",
    "sample_window_start = 11005+samples_per_symbol*symbols_per_window*new_win\n",
    "no_rrc_sample_window = rds_resampled_inPhase[sample_window_start:sample_window_start+winsize]\n",
    "rrc_sample_window = rds_rrcfiltered_inPhase[sample_window_start:sample_window_start+winsize]\n",
    "\n",
    "samples = np.ones(symbols_per_window)\n",
    "samples = upsample(samples, samples_per_symbol)\n",
    "\n",
    "samples_no_rrc = samples * no_rrc_sample_window\n",
    "samples_rrc = samples * rrc_sample_window\n",
    "\n",
    "plt.figure().set_figwidth(15)\n",
    "plt.plot(samples_rrc)\n",
    "plt.plot(samples_no_rrc)\n",
    "plt.plot(rrc_sample_window)\n",
    "\n",
    "\n",
    "\n"
   ]
  },
  {
   "cell_type": "code",
   "execution_count": null,
   "metadata": {},
   "outputs": [],
   "source": [
    "def sampling_start_adjust(block, samples_per_symbol):\n",
    "    abs_min_idx = 0\n",
    "    abs_min = abs(block[abs_min_idx])\n",
    "    for i in range(0, len(block)):\n",
    "        diff = abs(block[i])\n",
    "        if diff < abs_min:\n",
    "            abs_min = diff\n",
    "            abs_min_idx = i\n",
    "\n",
    "    return i % samples_per_symbol\n",
    "\n",
    "\n",
    "samples_per_symbol = 24\n",
    "symbols_per_window = 10\n",
    "winsize = (samples_per_symbol*symbols_per_window)\n",
    "\n",
    "sample_startpoint = 10005\n",
    "\n",
    "\n",
    "sampling_start = sampling_start_adjust1(rds_rrcfiltered_inPhase[sample_startpoint:sample_startpoint+winsize], samples_per_symbol)\n",
    "print(\"sampling start\", sampling_start)\n",
    "samples = np.ones(symbols_per_window)\n",
    "samples_upsampled = upsample(samples, samples_per_symbol)[:-(sampling_start+1)]\n",
    "\n",
    "samples = np.concatenate((np.zeros(sampling_start+1), samples_upsampled))\n",
    "\n",
    "rrc_sample_window = rds_rrcfiltered_inPhase[sample_window_start:sample_window_start+winsize]\n",
    "rrc_sample_window_quad = rds_rrcfiltered_quad[sample_window_start:sample_window_start+winsize]\n",
    "\n",
    "samples_rrc = samples * rrc_sample_window\n",
    "samples_rrc_quad = samples * rrc_sample_window_quad\n",
    "\n",
    "\n",
    "bool_array = np.empty(int(symbols_per_window/2), dtype=int)\n",
    "index = 0\n",
    "errors = 0\n",
    "\n",
    "print(winsize)\n",
    "\n",
    "for i in range(sampling_start, winsize, 2*samples_per_symbol):\n",
    "    if rrc_sample_window[i] > 0 and rrc_sample_window[i+samples_per_symbol] < 0:\n",
    "        bool_array[index] = 1\n",
    "    elif rrc_sample_window[i] < 0 and rrc_sample_window[i+samples_per_symbol] > 0:\n",
    "        bool_array[index] = 0\n",
    "    else:\n",
    "        bool_array[index] = -1\n",
    "    index = index + 1    \n",
    "\n",
    "print(bool_array)\n",
    "\n",
    "plt.plot(samples_rrc)\n",
    "plt.plot(rrc_sample_window)\n",
    "plt.ylim(-1.5, 1.5)\n",
    "plt.show()\n"
   ]
  },
  {
   "cell_type": "code",
   "execution_count": 16,
   "metadata": {},
   "outputs": [
    {
     "name": "stdout",
     "output_type": "stream",
     "text": [
      "sampling start 11\n"
     ]
    },
    {
     "data": {
      "image/png": "[encoded data removed]",
      "text/plain": [
       "<Figure size 432x288 with 1 Axes>"
      ]
     },
     "metadata": {
      "needs_background": "light"
     },
     "output_type": "display_data"
    }
   ],
   "source": [
    "def sampling_start_adjust1(block):\n",
    "    # find the first peak in the data\n",
    "    max_idx = 0\n",
    "    for i in range(1, len(block)-1):\n",
    "        if abs(block[i]) > abs(block[i-1]) and abs(block[i]) > abs(block[i+1]):\n",
    "            max_idx = i\n",
    "            break\n",
    "    return max_idx\n",
    "\n",
    "\n",
    "\n",
    "samples_per_symbol = 24\n",
    "symbols_per_window = 10\n",
    "winsize = (samples_per_symbol*symbols_per_window)\n",
    "\n",
    "sample_startpoint = 10005\n",
    "\n",
    "sampling_start = sampling_start_adjust1(rds_rrcfiltered_inPhase[sample_startpoint:sample_startpoint+winsize])\n",
    "print(\"sampling start\", sampling_start)\n",
    "samples = np.ones(symbols_per_window)\n",
    "samples_upsampled = upsample(samples, samples_per_symbol) # ones at each sample point, but out of phase\n",
    "samples_shifted = np.concatenate((np.zeros(sampling_start+1), samples_upsampled[:-sampling_start-1])) # ones at each sample point, now in phase\n",
    "\n",
    "rrc_sample_window = rds_rrcfiltered_inPhase[sample_startpoint:sample_startpoint+winsize]\n",
    "inphase_samples = samples_shifted * rrc_sample_window\n",
    "\n",
    "plt.plot(inphase_samples)\n",
    "plt.plot(rrc_sample_window)\n",
    "plt.ylim(-1.5, 1.5)\n",
    "plt.show()"
   ]
  },
  {
   "cell_type": "markdown",
   "metadata": {},
   "source": [
    "### Extraction of inphase samples"
   ]
  },
  {
   "cell_type": "code",
   "execution_count": null,
   "metadata": {},
   "outputs": [],
   "source": [
    "# Assuming the sampling rates above have been correctly calculated, we can extract samples from the RRC signal\n",
    "plt.xlim(-1.5, 1.5)\n",
    "plt.ylim(-1.5, 1.5)\n",
    "plt.scatter(samples_rrc, samples_rrc_quad, s=1 )"
   ]
  }
 ],
 "metadata": {
  "kernelspec": {
   "display_name": "Python 3",
   "language": "python",
   "name": "python3"
  },
  "language_info": {
   "codemirror_mode": {
    "name": "ipython",
    "version": 3
   },
   "file_extension": ".py",
   "mimetype": "text/x-python",
   "name": "python",
   "nbconvert_exporter": "python",
   "pygments_lexer": "ipython3",
   "version": "3.9.13"
  }
 },
 "nbformat": 4,
 "nbformat_minor": 2
}
