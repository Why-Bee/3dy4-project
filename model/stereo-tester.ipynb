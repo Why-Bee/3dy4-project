{
 "cells": [
  {
   "cell_type": "code",
   "execution_count": 1,
   "metadata": {},
   "outputs": [],
   "source": [
    "import matplotlib.pyplot as plt\n",
    "import numpy as np\n",
    "from scipy.io import wavfile\n",
    "from scipy import signal\n",
    "import math\n",
    "\n",
    "# use fmDemodArctan and fmPlotPSD\n",
    "from fmSupportLib import fmDemodArctan, fmPlotPSD, lpCoeff, own_lfilter, bpFirwin, fmPll\n",
    "# for take-home add your functions\n",
    "\n",
    "# the radio-frequency (RF) sampling rate\n",
    "# this sampling rate is either configured on RF hardware\n",
    "# or documented when a raw file with IQ samples is provided\n",
    "rf_Fs = 2.4e6\n",
    "\n",
    "# the cutoff frequency to extract the FM channel from raw IQ data\n",
    "rf_Fc = 100e3\n",
    "\n",
    "# the number of taps for the low-pass filter to extract the FM channel\n",
    "# this default value for the width of the impulse response should be changed\n",
    "# depending on some target objectives, like the width of the transition band\n",
    "# and/or the minimum expected attenuation from the pass to the stop band\n",
    "rf_taps = 101\n",
    "\n",
    "# the decimation rate when reducing the front end sampling rate (i.e., RF)\n",
    "# to a smaller samping rate at the intermediate frequency (IF) where\n",
    "# the demodulated data will be split into the mono/stereo/radio data channels\n",
    "rf_decim = 10\n",
    "\n",
    "# audio sampling rate (we assume audio will be at 48 KSamples/sec)\n",
    "audio_Fs = 48e3\n",
    "# should be the same as rf_Fs / rf_decim / audio_decim\n",
    "\n",
    "# complete your own settings for the mono channel\n",
    "# (cutoff freq, audio taps, decimation rate, ...)\n",
    "audio_Fc = 16e3 # change as needed (see spec in lab document)\n",
    "audio_decim = 5 # change as needed (see spec in lab document)\n",
    "audio_taps = 101 # change as you see fit\n",
    "\n",
    "# flag that keeps track if your code is running for\n",
    "# in-lab (il_vs_th = 0) vs takehome (il_vs_th = 1)\n",
    "il_vs_th = 1"
   ]
  },
  {
   "cell_type": "code",
   "execution_count": 2,
   "metadata": {},
   "outputs": [
    {
     "name": "stdout",
     "output_type": "stream",
     "text": [
      "Read raw RF data from \"../data/stereo_l0_r9.raw\" in unsigned 8-bit format\n",
      "Reformatted raw RF data to 32-bit float format (95027200 bytes)\n"
     ]
    },
    {
     "data": {
      "image/png": "[encoded data removed]",
      "text/plain": [
       "<Figure size 540x540 with 3 Axes>"
      ]
     },
     "metadata": {
      "needs_background": "light"
     },
     "output_type": "display_data"
    }
   ],
   "source": [
    "# read the raw IQ data from the recorded file\n",
    "# IQ data is assumed to be in 8-bits unsigned (and interleaved)\n",
    "in_fname = \"../data/stereo_l0_r9.raw\"\n",
    "# in_fname = \"/usr/raw_data/iq_samples/samples1.raw\"\n",
    "\n",
    "raw_data = np.fromfile(in_fname, dtype='uint8')\n",
    "print(\"Read raw RF data from \\\"\" + in_fname + \"\\\" in unsigned 8-bit format\")\n",
    "\t# IQ data is normalized between -1 and +1 in 32-bit float format\n",
    "iq_data = (np.float32(raw_data) - 128.0)/128.0\n",
    "print(\"Reformatted raw RF data to 32-bit float format (\" + str(iq_data.size * iq_data.itemsize) + \" bytes)\")\n",
    "\n",
    "\t# coefficients for the front-end low-pass filter\n",
    "rf_coeff = signal.firwin(rf_taps, rf_Fc/(rf_Fs/2), window=('hann'))\n",
    "\n",
    "# filter to extract the FM channel (I samples are even, Q samples are odd)\n",
    "i_filt = signal.lfilter(rf_coeff, 1.0, iq_data[0::2])\n",
    "q_filt = signal.lfilter(rf_coeff, 1.0, iq_data[1::2])\n",
    "\n",
    "# downsample the FM channel\n",
    "i_ds = i_filt[::rf_decim]\n",
    "q_ds = q_filt[::rf_decim]\n",
    "\n",
    "# set up the subfigures for plotting\n",
    "subfig_height = np.array([0.8, 2, 1.6]) # relative heights of the subfigures\n",
    "plt.rc('figure', figsize=(7.5, 7.5))\t# the size of the entire figure\n",
    "fig, (ax0, ax1, ax2) = plt.subplots(nrows=3, gridspec_kw={'height_ratios': subfig_height})\n",
    "fig.subplots_adjust(hspace = .6)\n",
    "\n",
    "# FM demodulator (check the library)\n",
    "fm_demod, dummy = fmDemodArctan(i_ds, q_ds)\n",
    "# we use a dummy because there is no state for this single-pass model\n",
    "\n",
    "fmPlotPSD(ax0, fm_demod, (rf_Fs/rf_decim)/1e3, subfig_height[0],\\\n",
    "\t\t\t'Demodulated FM (full recording)')"
   ]
  },
  {
   "cell_type": "code",
   "execution_count": 3,
   "metadata": {},
   "outputs": [],
   "source": [
    "audio_coeff = lpCoeff(Fs = (rf_Fs/rf_decim), Fc = audio_Fc, ntaps = audio_taps)\n",
    "audio_filt = signal.lfilter(audio_coeff, 1.0, fm_demod)\n",
    "\n",
    "stereo_coeff = bpFirwin((rf_Fs/rf_decim), 22e3, 54e3, 101)\n",
    "stereo_data = signal.lfilter(stereo_coeff, 1.0, fm_demod)"
   ]
  },
  {
   "cell_type": "code",
   "execution_count": 4,
   "metadata": {},
   "outputs": [],
   "source": [
    "pilot_coeff = bpFirwin((rf_Fs/rf_decim), 18.5e3, 20.5e3, 101)\n",
    "pilot_data = signal.lfilter(pilot_coeff, 1.0, fm_demod)"
   ]
  },
  {
   "cell_type": "code",
   "execution_count": 5,
   "metadata": {},
   "outputs": [],
   "source": [
    "ncoOut = fmPll(pilot_data, 19e3, rf_Fs/rf_decim, 2)\n",
    "\n",
    "mixed_data = np.zeros(len(stereo_data))\n",
    "# Stereo processing/demodulation\n",
    "for i in range(len(stereo_data)):\n",
    "\tmixed_data[i] = ((stereo_data[i] * ncoOut[i]))\n",
    "\n",
    "# cos(a)cos(b) = 1/2(cos(a-b) + cos(a+b)) we only need the cos(a-b) term\n",
    "mixed_coeff = lpCoeff(Fs = (rf_Fs/rf_decim), Fc = 38e3, ntaps = 101)\n",
    "mixed_data = signal.lfilter(mixed_coeff, 1.0, mixed_data)\n",
    "mixed_data = 2 * mixed_data\n",
    "\n",
    "mixed_data = mixed_data[::audio_decim]\n",
    "\n",
    "# delay the mono audio by 101/2 samples\n",
    "padding = np.zeros(50)\n",
    "audio_filt = np.concatenate((padding, audio_filt[:-50]))\n"
   ]
  },
  {
   "cell_type": "code",
   "execution_count": 6,
   "metadata": {},
   "outputs": [],
   "source": [
    "\n",
    "\n",
    "# you should uncomment the plots below once you have processed the data\n",
    "# PSD after extracting mono audio\n",
    "fmPlotPSD(ax1, audio_filt, (rf_Fs/rf_decim)/1e3, subfig_height[1], 'Extracted Mono')\n",
    "# downsample audio data (see the principle for i_ds or q_ds)\n",
    "audio_data = audio_filt[::audio_decim] # to be updated by you during in-lab (same code for takehome)\n",
    "\n",
    "left_data = np.zeros(len(audio_data))\n",
    "right_data = np.zeros(len(audio_data))\n",
    "\n",
    "for i in range(len(audio_data)):\n",
    "\tleft_data[i] = (audio_data[i] + mixed_data[i])\n",
    "\tright_data[i] = (audio_data[i] - mixed_data[i])"
   ]
  },
  {
   "cell_type": "code",
   "execution_count": 13,
   "metadata": {},
   "outputs": [
    {
     "name": "stdout",
     "output_type": "stream",
     "text": [
      "[[     0      0]\n",
      " [     0      0]\n",
      " [     0      0]\n",
      " ...\n",
      " [  6843 -10347]\n",
      " [  5428  -4706]\n",
      " [  3241  -1413]]\n",
      "Written audio samples to \"../data/fmMonoBasic_1.wav\" in signed 16-bit format\n"
     ]
    }
   ],
   "source": [
    "fmPlotPSD(ax2, audio_data, audio_Fs/1e3, subfig_height[2], 'Downsampled Mono Audio')\n",
    "# save PSD plots\n",
    "fig.savefig(\"../data/fmMonoBasic.png\")\n",
    "plt.show()\n",
    "# write audio data to file (assumes audio_data samples are -1 to +1)\n",
    "out_fname = \"../data/fmMonoBasic_1.wav\"\n",
    "wavfile.write(out_fname, int(audio_Fs), np.int16((audio_data/2)*32767))\n",
    "stereo_out_fname_left = \"../data/fmMonoBasic_stereo_left.wav\"\n",
    "stereo_out_fname_right = \"../data/fmMonoBasic_stereo_right.wav\"\n",
    "stereo_out_fname = '../data/fmMonoBasic_stereo.wav'\n",
    "wavfile.write(stereo_out_fname_left, int(audio_Fs), np.int16((left_data/2)*32767))\n",
    "wavfile.write(stereo_out_fname_right, int(audio_Fs), np.int16((right_data/2)*32767))\n",
    "c = np.column_stack((np.int16((left_data/2)*32767), np.int16((right_data/2)*32767)))\n",
    "print(c)\n",
    "wavfile.write(stereo_out_fname, int(audio_Fs), c)\n",
    "# during FM transmission audio samples in the mono channel will contain\n",
    "# the sum of the left and right audio channels; hence, we first\n",
    "# divide by two the audio sample value and then we rescale to fit\n",
    "# in the range offered by 16-bit signed int representation\n",
    "print(\"Written audio samples to \\\"\" + out_fname + \"\\\" in signed 16-bit format\")"
   ]
  }
 ],
 "metadata": {
  "kernelspec": {
   "display_name": "Python 3",
   "language": "python",
   "name": "python3"
  },
  "language_info": {
   "codemirror_mode": {
    "name": "ipython",
    "version": 3
   },
   "file_extension": ".py",
   "mimetype": "text/x-python",
   "name": "python",
   "nbconvert_exporter": "python",
   "pygments_lexer": "ipython3",
   "version": "3.9.13"
  }
 },
 "nbformat": 4,
 "nbformat_minor": 2
}
